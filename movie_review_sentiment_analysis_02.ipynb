{
  "cells": [
    {
      "cell_type": "markdown",
      "metadata": {
        "id": "view-in-github",
        "colab_type": "text"
      },
      "source": [
        "<a href=\"https://colab.research.google.com/github/futugyou/pyproject/blob/master/movie_review_sentiment_analysis_02.ipynb\" target=\"_parent\"><img src=\"https://colab.research.google.com/assets/colab-badge.svg\" alt=\"Open In Colab\"/></a>"
      ]
    },
    {
      "cell_type": "code",
      "source": [
        "# Install required dependencies\n",
        "%pip install --upgrade pip setuptools wheel\n",
        "%pip install datasets\n",
        "%pip install scikit-learn\n",
        "%pip install sentence_transformers"
      ],
      "metadata": {
        "id": "B_BCbm4KCjL6"
      },
      "execution_count": null,
      "outputs": []
    },
    {
      "cell_type": "code",
      "source": [
        "from sklearn.linear_model import LogisticRegression\n",
        "from sklearn.metrics import classification_report\n",
        "from datasets import load_dataset\n",
        "from sentence_transformers import SentenceTransformer\n",
        "\n",
        "data = load_dataset(\"rotten_tomatoes\")\n",
        "model = SentenceTransformer(\"all-mpnet-base-v2\")\n",
        "train_embeddings = model.encode(data[\"train\"][\"text\"], show_process_bar=True)\n",
        "test_embeddings = model.encode(data[\"test\"][\"text\"], show_process_bar=True)\n",
        "\n",
        "clf = LogisticRegression(random_state=42)\n",
        "clf.fit(train_embeddings, data[\"train\"][\"label\"])"
      ],
      "metadata": {
        "id": "1zQ-uwrRkkBi"
      },
      "execution_count": null,
      "outputs": []
    },
    {
      "cell_type": "code",
      "source": [
        "y_pred = clf.predict(test_embeddings)\n",
        "print(y_pred)"
      ],
      "metadata": {
        "id": "UhdFBvBon_rN"
      },
      "execution_count": null,
      "outputs": []
    },
    {
      "cell_type": "code",
      "source": [
        "def evaluate_performance(y_true, y_pred):\n",
        "  print(classification_report(y_true, y_pred, target_names=[\"negative\", \"positive\"]))\n",
        "\n",
        "evaluate_performance(data[\"test\"][\"label\"], y_pred)"
      ],
      "metadata": {
        "id": "L-cXwO4yszQK"
      },
      "execution_count": null,
      "outputs": []
    }
  ],
  "metadata": {
    "colab": {
      "provenance": [],
      "toc_visible": true,
      "include_colab_link": true
    },
    "kernelspec": {
      "display_name": "Python 3",
      "name": "python3"
    },
    "language_info": {
      "name": "python"
    }
  },
  "nbformat": 4,
  "nbformat_minor": 0
}
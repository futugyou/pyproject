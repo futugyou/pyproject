{
  "cells": [
    {
      "cell_type": "markdown",
      "metadata": {
        "id": "view-in-github",
        "colab_type": "text"
      },
      "source": [
        "<a href=\"https://colab.research.google.com/github/futugyou/pyproject/blob/master/transformers_demo/blip_02.ipynb\" target=\"_parent\"><img src=\"https://colab.research.google.com/assets/colab-badge.svg\" alt=\"Open In Colab\"/></a>"
      ]
    },
    {
      "cell_type": "code",
      "execution_count": null,
      "metadata": {
        "collapsed": true,
        "id": "1piQHEu3zW6s"
      },
      "outputs": [],
      "source": [
        "# Install required dependencies\n",
        "%pip install transformers\n",
        "%pip install torch\n",
        "%pip install ipython\n",
        "%pip install ipywidgets"
      ]
    },
    {
      "cell_type": "code",
      "source": [
        "from transformers import AutoProcessor, Blip2ForConditionalGeneration\n",
        "import torch\n",
        "\n",
        "blip_processor = AutoProcessor.from_pretrained(\"Salesforce/blip2-opt-2.7b\")\n",
        "model = Blip2ForConditionalGeneration.from_pretrained(\"Salesforce/blip2-opt-2.7b\", torch_dtype=torch.float16)\n",
        "\n",
        "device = \"cuda\" if torch.cuda.is_available() else \"cpu\"\n",
        "model.to(device)"
      ],
      "metadata": {
        "id": "fjS_tUJz6Kp-"
      },
      "execution_count": null,
      "outputs": []
    },
    {
      "cell_type": "code",
      "source": [
        "from urllib.request import urlopen\n",
        "from PIL import Image\n",
        "\n",
        "puppy_path = \"https://raw.githubusercontent.com/HandsOnLLM/Hands-On-Large-Language-Models/main/chapter09/images/puppy.png\"\n",
        "image = Image.open(urlopen(puppy_path)).convert(\"RGB\")"
      ],
      "metadata": {
        "id": "cHxfrjTkLD3w"
      },
      "execution_count": null,
      "outputs": []
    },
    {
      "cell_type": "code",
      "source": [
        "from IPython.display import HTML, display\n",
        "import ipywidgets as widgets\n",
        "\n",
        "def text_eventhandler(*args):\n",
        "  question = args[0][\"new\"]\n",
        "  if question:\n",
        "    args[0][\"owner\"].value = \"\"\n",
        "\n",
        "    if not memory:\n",
        "      prompt = \" Question: \" + question + \" Answer:\"\n",
        "    else:\n",
        "      template = \"Question: {} Answer: {}.\"\n",
        "      prompt = \" \".join([\n",
        "          template.format(memory[i][0],memory[i][1]) for i in range(len(memory))\n",
        "      ]) + \" Question: \" + question + \" Answer:\"\n",
        "\n",
        "    inputs = blip_processor(image, text=prompt, return_tensors=\"pt\").to(device, torch.float16)\n",
        "\n",
        "    generated_ids = model.generate(**inputs, max_new_tokens=100)\n",
        "    generated_text = blip_processor.batch_decode(generated_ids, skip_spceial_tokens=True)\n",
        "    print(generated_text[0].strip())\n",
        "    generated_text = generated_text[0].strip().split(\"Question\")[0]\n",
        "    print(generated_text)\n",
        "\n",
        "    memory.append((question, generated_text))\n",
        "\n",
        "    output.append_display_data(HTML(\"<b>USER: </b>\" + question))\n",
        "    output.append_display_data(HTML(\"<b>BLIP-2: </b> \"+ generated_text))\n",
        "    output.append_display_data(HTML(\"<br/>\"))\n",
        "\n",
        "memory = []\n",
        "in_text = widgets.Text()\n",
        "in_text.continuous_update = False\n",
        "in_text.observe(text_eventhandler, \"value\")\n",
        "output = widgets.Output()"
      ],
      "metadata": {
        "id": "uvJOf_J5E_jO"
      },
      "execution_count": null,
      "outputs": []
    },
    {
      "cell_type": "code",
      "source": [
        "display(\n",
        "  widgets.VBox(\n",
        "      children=[output, in_text],\n",
        "      layout=widgets.Layout(display=\"inline-flex\", flex_flow=\"column-reverse\"),\n",
        "  )\n",
        ")"
      ],
      "metadata": {
        "id": "EgxgBEHbD4UO"
      },
      "execution_count": null,
      "outputs": []
    }
  ],
  "metadata": {
    "colab": {
      "provenance": [],
      "toc_visible": true,
      "include_colab_link": true
    },
    "kernelspec": {
      "display_name": "Python 3",
      "name": "python3"
    },
    "language_info": {
      "name": "python"
    }
  },
  "nbformat": 4,
  "nbformat_minor": 0
}
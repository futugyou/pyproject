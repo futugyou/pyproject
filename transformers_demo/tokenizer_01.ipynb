{
 "cells": [
  {
   "cell_type": "markdown",
   "metadata": {
    "colab_type": "text",
    "id": "view-in-github"
   },
   "source": [
    "<a href=\"https://colab.research.google.com/github/futugyou/pyproject/blob/master/transformers_demo/tokenizer_01.ipynb\" target=\"_parent\"><img src=\"https://colab.research.google.com/assets/colab-badge.svg\" alt=\"Open In Colab\"/></a>"
   ]
  },
  {
   "cell_type": "code",
   "execution_count": null,
   "metadata": {
    "collapsed": true,
    "id": "1piQHEu3zW6s"
   },
   "outputs": [],
   "source": [
    "# 安装所需的依赖库\n",
    "%pip install tokenizers\n",
    "%pip install transformers\n",
    "%pip install torch"
   ]
  },
  {
   "cell_type": "code",
   "execution_count": null,
   "metadata": {
    "collapsed": true,
    "id": "Y0XwhKPez7gu"
   },
   "outputs": [],
   "source": [
    "from tokenizers import Tokenizer\n",
    "from transformers import AutoTokenizer\n",
    "\n",
    "tokenizer = Tokenizer.from_pretrained(\"bert-base-chinese\")\n",
    "autoTokenizer = AutoTokenizer.from_pretrained(\"bert-base-chinese\")"
   ]
  },
  {
   "cell_type": "code",
   "execution_count": null,
   "metadata": {
    "id": "hyqG_xDg0l1U"
   },
   "outputs": [],
   "source": [
    "text = \"朋友拿了米其林一星餐厅的燕皮扁食去化验 检测出了硼砂成分（剧毒）想提醒妈妈们馄饨、肠粉之类的自己做我也好信儿 也寄了我们家小馄饨去检测花了 750 块钱巨资 还好没有……不过食品安全也算是触目惊心了自己做肯定是最好的\"\n",
    "input_tokens = tokenizer.encode(text)\n",
    "print(f\"Original Text: {text}\")\n",
    "print(f\"Tokenized IDs (Tokenizer): {input_tokens.ids}\")\n",
    "print(f\"Decoded Text (Tokenizer): {tokenizer.decode(input_tokens.ids)}\")\n",
    "\n",
    "auto_tokens = autoTokenizer(text)\n",
    "decoded_text = autoTokenizer.decode(auto_tokens[\"input_ids\"])\n",
    "print(f\"Decoded Text (AutoTokenizer): {decoded_text}\")\n",
    "print(\"=\" * 40)"
   ]
  }
 ],
 "metadata": {
  "colab": {
   "authorship_tag": "ABX9TyOBtIogEWgm16u87gbbJi69",
   "include_colab_link": true,
   "provenance": [],
   "toc_visible": true
  },
  "kernelspec": {
   "display_name": "Python 3",
   "name": "python3"
  },
  "language_info": {
   "name": "python"
  }
 },
 "nbformat": 4,
 "nbformat_minor": 0
}
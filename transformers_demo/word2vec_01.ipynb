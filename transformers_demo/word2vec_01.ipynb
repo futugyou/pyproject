{
  "cells": [
    {
      "cell_type": "markdown",
      "metadata": {
        "id": "view-in-github",
        "colab_type": "text"
      },
      "source": [
        "<a href=\"https://colab.research.google.com/github/futugyou/pyproject/blob/master/transformers_demo/word2vec_01.ipynb\" target=\"_parent\"><img src=\"https://colab.research.google.com/assets/colab-badge.svg\" alt=\"Open In Colab\"/></a>"
      ]
    },
    {
      "cell_type": "code",
      "source": [
        "# Install required dependencies\n",
        "%pip install pandas"
      ],
      "metadata": {
        "id": "B_BCbm4KCjL6"
      },
      "execution_count": null,
      "outputs": []
    },
    {
      "cell_type": "code",
      "source": [
        "import pandas as pd\n",
        "from urllib import request\n",
        "\n",
        "data = request.urlopen(\"https://storage.googleapis.com/maps-premium/dataset/yes_complete/train.txt\")\n",
        "\n",
        "lines = data.read().decode(\"utf-8\").split('\\n')[2:]\n",
        "\n",
        "playlists = [s.split() for s in lines if len(s.split())>1]\n",
        "\n",
        "songs_file = request.urlopen(\"https://storage.googleapis.com/maps-premium/dataset/yes_complete/song_hash.txt\")\n",
        "songs_file = songs_file.read().decode(\"utf-8\").split('\\n')\n",
        "\n",
        "songs = [s.split('\\t') for s in songs_file]\n",
        "songs_df = pd.DataFrame(songs, columns=['id', 'title','artist']).set_index(\"id\")"
      ],
      "metadata": {
        "id": "p83IMJKpHtfR"
      },
      "execution_count": null,
      "outputs": []
    },
    {
      "cell_type": "code",
      "source": [
        "print(\"platlist #1:\\n\",playlists[0],\"\\n\")\n",
        "print(\"platlist #2:\\n\",playlists[1],\"\\n\")"
      ],
      "metadata": {
        "id": "UbbKCyxtHK_a"
      },
      "execution_count": null,
      "outputs": []
    }
  ],
  "metadata": {
    "colab": {
      "provenance": [],
      "toc_visible": true,
      "include_colab_link": true
    },
    "kernelspec": {
      "display_name": "Python 3",
      "name": "python3"
    },
    "language_info": {
      "name": "python"
    }
  },
  "nbformat": 4,
  "nbformat_minor": 0
}
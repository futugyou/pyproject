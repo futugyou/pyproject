{
  "cells": [
    {
      "cell_type": "markdown",
      "metadata": {
        "id": "view-in-github",
        "colab_type": "text"
      },
      "source": [
        "<a href=\"https://colab.research.google.com/github/futugyou/pyproject/blob/master/transformers_demo/text_generation_04.ipynb\" target=\"_parent\"><img src=\"https://colab.research.google.com/assets/colab-badge.svg\" alt=\"Open In Colab\"/></a>"
      ]
    },
    {
      "cell_type": "code",
      "execution_count": null,
      "metadata": {
        "collapsed": true,
        "id": "1piQHEu3zW6s"
      },
      "outputs": [],
      "source": [
        "# Install required dependencies\n",
        "%pip install langchain-community langchain-google-genai langchain google-generativeai"
      ]
    },
    {
      "cell_type": "code",
      "execution_count": null,
      "metadata": {
        "collapsed": true,
        "id": "Y0XwhKPez7gu"
      },
      "outputs": [],
      "source": [
        "from langchain_google_genai import ChatGoogleGenerativeAI\n",
        "from google.colab import userdata\n",
        "\n",
        "llm = ChatGoogleGenerativeAI(model=\"gemini-2.5-flash\",api_key=userdata.get('GOOGLE_API_KEY'))"
      ]
    },
    {
      "cell_type": "code",
      "source": [
        "from langchain.prompts import PromptTemplate\n",
        "from langchain.memory import ConversationBufferMemory\n",
        "from langchain_core.runnables import RunnablePassthrough\n",
        "\n",
        "# 1. Prompt\n",
        "template = \"\"\"<s><|user|>\n",
        "current conversation:\n",
        "{chat_history}\n",
        "\n",
        "{input_prompt}<|end|>\n",
        "<|assistant|>\"\"\"\n",
        "\n",
        "prompt = PromptTemplate(\n",
        "    template=template,\n",
        "    input_variables=[\"chat_history\", \"input_prompt\"]\n",
        ")\n",
        "\n",
        "# 2. Memory\n",
        "memory = ConversationBufferMemory(\n",
        "    memory_key=\"chat_history\",\n",
        "    return_messages=False\n",
        ")\n",
        "\n",
        "# 3. Chain\n",
        "chain = (\n",
        "    RunnablePassthrough.assign(\n",
        "        chat_history=lambda _: memory.load_memory_variables({})[\"chat_history\"]\n",
        "    )\n",
        "    | prompt\n",
        "    | llm\n",
        ")"
      ],
      "metadata": {
        "id": "CBJzqL2YyvAj"
      },
      "execution_count": null,
      "outputs": []
    },
    {
      "cell_type": "code",
      "source": [
        "# 4. example\n",
        "user_input = \"hello, my name is maarten. what is 1 + 1?\"\n",
        "result = chain.invoke({\"input_prompt\": user_input})\n",
        "\n",
        "# 5. save memory\n",
        "memory.save_context({\"input_prompt\": user_input}, {\"output\": result.content})\n",
        "\n",
        "print(result.content)"
      ],
      "metadata": {
        "id": "qLA3B27pk-DP"
      },
      "execution_count": null,
      "outputs": []
    },
    {
      "cell_type": "code",
      "source": [
        "user_input = \"what is my name?\"\n",
        "result = chain.invoke({\"input_prompt\": user_input})\n",
        "\n",
        "print(result.content)"
      ],
      "metadata": {
        "id": "HDQS3YYjt7LI"
      },
      "execution_count": null,
      "outputs": []
    }
  ],
  "metadata": {
    "colab": {
      "provenance": [],
      "toc_visible": true,
      "gpuType": "T4",
      "include_colab_link": true
    },
    "kernelspec": {
      "display_name": "Python 3",
      "name": "python3"
    },
    "language_info": {
      "name": "python"
    },
    "accelerator": "GPU"
  },
  "nbformat": 4,
  "nbformat_minor": 0
}
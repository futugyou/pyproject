{
  "cells": [
    {
      "cell_type": "markdown",
      "metadata": {
        "id": "view-in-github",
        "colab_type": "text"
      },
      "source": [
        "<a href=\"https://colab.research.google.com/github/futugyou/pyproject/blob/master/transformers_demo/movie_review_sentiment_analysis_04.ipynb\" target=\"_parent\"><img src=\"https://colab.research.google.com/assets/colab-badge.svg\" alt=\"Open In Colab\"/></a>"
      ]
    },
    {
      "cell_type": "code",
      "source": [
        "# Install required dependencies\n",
        "%pip install --upgrade pip setuptools wheel\n",
        "%pip install datasets\n",
        "%pip install transformers\n",
        "%pip install tqdm\n",
        "%pip install scikit-learn"
      ],
      "metadata": {
        "id": "B_BCbm4KCjL6"
      },
      "execution_count": null,
      "outputs": []
    },
    {
      "cell_type": "code",
      "source": [
        "from transformers import pipeline\n",
        "from transformers.pipelines.pt_utils import KeyDataset\n",
        "from sklearn.metrics import classification_report\n",
        "from datasets import load_dataset\n",
        "from tqdm import tqdm\n",
        "\n",
        "data = load_dataset(\"rotten_tomatoes\")\n",
        "pipe = pipeline(\"text2text-generation\", model=\"google/flan-t5-small\")"
      ],
      "metadata": {
        "id": "1zQ-uwrRkkBi"
      },
      "execution_count": null,
      "outputs": []
    },
    {
      "cell_type": "code",
      "source": [
        "prompt = \"is the following sentence positive or negative?\"\n",
        "data = data.map(lambda x: {\"t5\": prompt + x[\"text\"]})\n",
        "print(data)"
      ],
      "metadata": {
        "id": "wC-1yYJmAnvu"
      },
      "execution_count": null,
      "outputs": []
    },
    {
      "cell_type": "code",
      "source": [
        "y_pred = []\n",
        "for output in tqdm(pipe(KeyDataset(data[\"test\"], \"t5\")), total=len(data[\"test\"])):\n",
        "    print(output)\n",
        "    text = output[0][\"generated_text\"]\n",
        "    y_pred.append(0 if text == \"negative\" else 1)\n",
        "print(y_pred)"
      ],
      "metadata": {
        "id": "UhdFBvBon_rN"
      },
      "execution_count": null,
      "outputs": []
    },
    {
      "cell_type": "code",
      "source": [
        "def evaluate_performance(y_true, y_pred):\n",
        "  print(classification_report(y_true, y_pred, target_names=[\"negative\", \"positive\"]))\n",
        "\n",
        "evaluate_performance(data[\"test\"][\"label\"], y_pred)"
      ],
      "metadata": {
        "id": "L-cXwO4yszQK"
      },
      "execution_count": null,
      "outputs": []
    }
  ],
  "metadata": {
    "colab": {
      "provenance": [],
      "toc_visible": true,
      "include_colab_link": true
    },
    "kernelspec": {
      "display_name": "Python 3",
      "name": "python3"
    },
    "language_info": {
      "name": "python"
    }
  },
  "nbformat": 4,
  "nbformat_minor": 0
}
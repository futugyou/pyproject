{
  "cells": [
    {
      "cell_type": "markdown",
      "metadata": {
        "id": "view-in-github",
        "colab_type": "text"
      },
      "source": [
        "<a href=\"https://colab.research.google.com/github/futugyou/pyproject/blob/master/transformers_demo/text_generation_01.ipynb\" target=\"_parent\"><img src=\"https://colab.research.google.com/assets/colab-badge.svg\" alt=\"Open In Colab\"/></a>"
      ]
    },
    {
      "cell_type": "code",
      "execution_count": null,
      "metadata": {
        "collapsed": true,
        "id": "1piQHEu3zW6s"
      },
      "outputs": [],
      "source": [
        "# Install required dependencies\n",
        "%pip install langchain-community llama-cpp-python langchain\n"
      ]
    },
    {
      "cell_type": "code",
      "execution_count": null,
      "metadata": {
        "collapsed": true,
        "id": "Y0XwhKPez7gu"
      },
      "outputs": [],
      "source": [
        "from llama_cpp.llama import Llama\n",
        "from langchain.llms import LlamaCpp\n",
        "\n",
        "llm_raw = Llama.from_pretrained(\n",
        "    repo_id=\"microsoft/Phi-3-mini-4k-instruct-gguf\",\n",
        "    filename=\"*fp16.gguf\",\n",
        "    n_gpu_layers=-1,\n",
        "    n_ctx=2048,\n",
        "    verbose=True,\n",
        ")\n",
        "\n",
        "llm = LlamaCpp(model_path=llm_raw.model_path)\n"
      ]
    },
    {
      "cell_type": "code",
      "execution_count": null,
      "metadata": {
        "id": "hyqG_xDg0l1U"
      },
      "outputs": [],
      "source": [
        "llm.invoke(\"hello, my name is maarten. what is 1 + 1?\")"
      ]
    }
  ],
  "metadata": {
    "colab": {
      "provenance": [],
      "gpuType": "T4",
      "include_colab_link": true
    },
    "kernelspec": {
      "display_name": "Python 3",
      "name": "python3"
    },
    "language_info": {
      "name": "python"
    },
    "accelerator": "GPU"
  },
  "nbformat": 4,
  "nbformat_minor": 0
}
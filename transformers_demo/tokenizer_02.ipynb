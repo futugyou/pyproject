{
  "cells": [
    {
      "cell_type": "markdown",
      "metadata": {
        "id": "view-in-github",
        "colab_type": "text"
      },
      "source": [
        "<a href=\"https://colab.research.google.com/github/futugyou/pyproject/blob/master/transformers_demo/tokenizer_02.ipynb\" target=\"_parent\"><img src=\"https://colab.research.google.com/assets/colab-badge.svg\" alt=\"Open In Colab\"/></a>"
      ]
    },
    {
      "cell_type": "code",
      "source": [
        "# Install required dependencies\n",
        "!pip install transformers\n",
        "!pip install torch"
      ],
      "metadata": {
        "id": "B_BCbm4KCjL6"
      },
      "execution_count": null,
      "outputs": []
    },
    {
      "cell_type": "code",
      "source": [
        "from transformers import AutoTokenizer, AutoModelForCausalLM\n",
        "\n",
        "# Switch to the distilgpt2 model\n",
        "# This model is small and has low memory requirements.\n",
        "model_name = \"distilgpt2\"\n",
        "model = AutoModelForCausalLM.from_pretrained(model_name)\n",
        "tokenizer = AutoTokenizer.from_pretrained(model_name)"
      ],
      "metadata": {
        "id": "p83IMJKpHtfR"
      },
      "execution_count": null,
      "outputs": []
    },
    {
      "cell_type": "code",
      "source": [
        "# Prepare input text\n",
        "text = \"write an email aplogizing to search for the tragic gardening mishap. Explain how it happened.\"\n",
        "input_ids = tokenizer(text, return_tensors=\"pt\").input_ids\n",
        "\n",
        "# Generate text\n",
        "# Set max_new_tokens to 40, adjust as needed\n",
        "generation_output = model.generate(input_ids, max_new_tokens=40)\n",
        "decoded_text = tokenizer.decode(generation_output[0], skip_special_tokens=True)\n",
        "\n",
        "print(f\"Original Text: {text}\")\n",
        "print(f\"Tokenized IDs (AutoTokenizer): {input_ids}\")\n",
        "print(f\"Decoded Text (AutoTokenizer): {decoded_text}\")\n",
        "\n",
        "for id in input_ids[0]:\n",
        "  print(tokenizer.decode(id))"
      ],
      "metadata": {
        "id": "UbbKCyxtHK_a"
      },
      "execution_count": null,
      "outputs": []
    }
  ],
  "metadata": {
    "colab": {
      "provenance": [],
      "toc_visible": true,
      "include_colab_link": true
    },
    "kernelspec": {
      "display_name": "Python 3",
      "name": "python3"
    },
    "language_info": {
      "name": "python"
    }
  },
  "nbformat": 4,
  "nbformat_minor": 0
}
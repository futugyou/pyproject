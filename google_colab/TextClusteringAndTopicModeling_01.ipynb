{
 "cells": [
  {
   "cell_type": "markdown",
   "metadata": {
    "colab_type": "text",
    "id": "view-in-github"
   },
   "source": [
    "<a href=\"https://colab.research.google.com/github/futugyou/pyproject/blob/master/transformers_demo/TextClusteringAndTopicModeling_01.ipynb\" target=\"_parent\"><img src=\"https://colab.research.google.com/assets/colab-badge.svg\" alt=\"Open In Colab\"/></a>"
   ]
  },
  {
   "cell_type": "code",
   "execution_count": null,
   "metadata": {
    "id": "B_BCbm4KCjL6"
   },
   "outputs": [],
   "source": [
    "# Install required dependencies\n",
    "%pip install --upgrade pip setuptools wheel\n",
    "%pip install datasets\n",
    "%pip install sentence_transformers\n",
    "%pip install umap-learn\n",
    "%pip install hdbscan\n",
    "%pip install numpy\n",
    "%pip install pandas\n",
    "%pip install matplotlib\n",
    "%pip install tqdm"
   ]
  },
  {
   "cell_type": "code",
   "execution_count": null,
   "metadata": {
    "id": "1zQ-uwrRkkBi"
   },
   "outputs": [],
   "source": [
    "from datasets import load_dataset\n",
    "from sentence_transformers import SentenceTransformer\n",
    "from hdbscan import HDBSCAN\n",
    "from tqdm.notebook import tqdm\n",
    "import umap\n",
    "import numpy as np\n",
    "import pandas as pd\n",
    "import matplotlib.pyplot as plt\n",
    "\n",
    "data = load_dataset(\"maartengr/arxiv_nlp\")\n",
    "dataset = data[\"train\"]\n",
    "abstracts = dataset[\"Abstracts\"]\n",
    "titles = dataset[\"Titles\"]\n",
    "print(abstracts)"
   ]
  },
  {
   "cell_type": "code",
   "execution_count": null,
   "metadata": {
    "id": "0y-DR6nKjQlQ"
   },
   "outputs": [],
   "source": [
    "# \"thenlper/gte-small\" \"sentence-transformers/all-MiniLM-L6-v2\"\n",
    "embedding_model = SentenceTransformer(\"thenlper/gte-small\")\n",
    "embeddings = embedding_model.encode(\n",
    "    abstracts, show_progress_bar=True, progress_bar=tqdm, batch_size=16\n",
    ")\n",
    "print(embeddings)"
   ]
  },
  {
   "cell_type": "code",
   "execution_count": null,
   "metadata": {
    "id": "wC-1yYJmAnvu"
   },
   "outputs": [],
   "source": [
    "umap_model = umap.UMAP(\n",
    "    n_components=5, min_dist=0.0, metric=\"cosine\", random_state=42, verbose=True\n",
    ")\n",
    "umap_embeddings = umap_model.fit_transform(embeddings)\n",
    "print(umap_embeddings)"
   ]
  },
  {
   "cell_type": "code",
   "execution_count": null,
   "metadata": {
    "id": "UhdFBvBon_rN"
   },
   "outputs": [],
   "source": [
    "hdbsacn_model = HDBSCAN(\n",
    "    min_cluster_size=50, metric=\"euclidean\", cluster_selection_method=\"eom\"\n",
    ").fit(umap_embeddings)\n",
    "clusters = hdbsacn_model.labels_\n",
    "print(clusters)"
   ]
  },
  {
   "cell_type": "code",
   "execution_count": null,
   "metadata": {
    "id": "L-cXwO4yszQK"
   },
   "outputs": [],
   "source": [
    "cluster = 0\n",
    "for index in np.where(clusters == cluster)[0][:3]:\n",
    "    print(abstracts[int(index)][:300] + \".... \\n\")"
   ]
  },
  {
   "cell_type": "code",
   "execution_count": null,
   "metadata": {
    "id": "bf3b1qnXTVYG"
   },
   "outputs": [],
   "source": [
    "reduced_embeddings = umap.UMAP(\n",
    "    n_components=2, min_dist=0.0, metric=\"cosine\", random_state=42, verbose=True\n",
    ").fit_transform(embeddings)\n",
    "df = pd.DataFrame(reduced_embeddings, columns=[\"x\", \"y\"])\n",
    "df[\"title\"] = titles\n",
    "df[\"cluster\"] = [str(c) for c in clusters]\n",
    "\n",
    "clusters_df = df.loc[df.cluster != \"-1\", :]\n",
    "outliers_df = df.loc[df.cluster == \"-1\", :]"
   ]
  },
  {
   "cell_type": "code",
   "execution_count": null,
   "metadata": {
    "id": "Qxv6wlIfUcnV"
   },
   "outputs": [],
   "source": [
    "plt.scatter(outliers_df.x, outliers_df.y, alpha=0.05, c=\"grey\")\n",
    "plt.scatter(\n",
    "    clusters_df.x,\n",
    "    clusters_df.y,\n",
    "    c=clusters_df.cluster.astype(int),\n",
    "    alpha=0.6,\n",
    "    s=2,\n",
    "    cmap=\"tab20b\",\n",
    ")\n",
    "plt.axis(\"off\")"
   ]
  }
 ],
 "metadata": {
  "accelerator": "GPU",
  "colab": {
   "gpuType": "T4",
   "include_colab_link": true,
   "provenance": [],
   "toc_visible": true
  },
  "kernelspec": {
   "display_name": "Python 3",
   "name": "python3"
  },
  "language_info": {
   "name": "python"
  }
 },
 "nbformat": 4,
 "nbformat_minor": 0
}
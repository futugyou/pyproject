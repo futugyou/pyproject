{
 "cells": [
  {
   "cell_type": "markdown",
   "metadata": {
    "colab_type": "text",
    "id": "view-in-github"
   },
   "source": [
    "<a href=\"https://colab.research.google.com/github/futugyou/pyproject/blob/master/google_colab/movie_review_sentiment_analysis_02.ipynb\" target=\"_parent\"><img src=\"https://colab.research.google.com/assets/colab-badge.svg\" alt=\"Open In Colab\"/></a>"
   ]
  },
  {
   "cell_type": "code",
   "execution_count": null,
   "metadata": {
    "id": "B_BCbm4KCjL6"
   },
   "outputs": [],
   "source": [
    "# Install required dependencies\n",
    "%pip install --upgrade pip setuptools wheel\n",
    "%pip install datasets\n",
    "%pip install numpy\n",
    "%pip install scikit-learn\n",
    "%pip install sentence_transformers"
   ]
  },
  {
   "cell_type": "code",
   "execution_count": null,
   "metadata": {
    "id": "1zQ-uwrRkkBi"
   },
   "outputs": [],
   "source": [
    "# Use embedded models and unlabeled data(0 samples) for classification, POM project can use.\n",
    "from sklearn.linear_model import LogisticRegression\n",
    "from sklearn.metrics import classification_report\n",
    "from sklearn.metrics.pairwise import cosine_similarity\n",
    "from datasets import load_dataset\n",
    "import numpy as np\n",
    "from sentence_transformers import SentenceTransformer\n",
    "\n",
    "data = load_dataset(\"rotten_tomatoes\")\n",
    "model = SentenceTransformer(\"all-mpnet-base-v2\")\n",
    "test_embeddings = model.encode(data[\"test\"][\"text\"], show_process_bar=True)\n",
    "lable_embeddings = model.encode([\"a negative review\", \"a positive review\"])"
   ]
  },
  {
   "cell_type": "code",
   "execution_count": null,
   "metadata": {
    "id": "UhdFBvBon_rN"
   },
   "outputs": [],
   "source": [
    "sim_matrix = cosine_similarity(test_embeddings, lable_embeddings)\n",
    "y_pred = np.argmax(sim_matrix, axis=1)\n",
    "print(y_pred)"
   ]
  },
  {
   "cell_type": "code",
   "execution_count": null,
   "metadata": {
    "id": "L-cXwO4yszQK"
   },
   "outputs": [],
   "source": [
    "def evaluate_performance(y_true, y_pred):\n",
    "    print(classification_report(y_true, y_pred, target_names=[\"negative\", \"positive\"]))\n",
    "\n",
    "\n",
    "evaluate_performance(data[\"test\"][\"label\"], y_pred)"
   ]
  }
 ],
 "metadata": {
  "colab": {
   "include_colab_link": true,
   "provenance": [],
   "toc_visible": true
  },
  "kernelspec": {
   "display_name": "Python 3",
   "name": "python3"
  },
  "language_info": {
   "name": "python"
  }
 },
 "nbformat": 4,
 "nbformat_minor": 0
}

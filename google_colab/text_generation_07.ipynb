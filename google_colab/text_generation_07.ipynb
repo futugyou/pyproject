{
 "cells": [
  {
   "cell_type": "markdown",
   "metadata": {
    "colab_type": "text",
    "id": "view-in-github"
   },
   "source": [
    "<a href=\"https://colab.research.google.com/github/futugyou/pyproject/blob/master/google_colab/text_generation_07.ipynb\" target=\"_parent\"><img src=\"https://colab.research.google.com/assets/colab-badge.svg\" alt=\"Open In Colab\"/></a>"
   ]
  },
  {
   "cell_type": "code",
   "execution_count": null,
   "metadata": {
    "collapsed": true,
    "id": "1piQHEu3zW6s"
   },
   "outputs": [],
   "source": [
    "# Install required dependencies\n",
    "%pip install langchain-community langchain-google-genai langchain google-generativeai\n",
    "%pip install duckduckgo-search"
   ]
  },
  {
   "cell_type": "code",
   "execution_count": null,
   "metadata": {
    "collapsed": true,
    "id": "Y0XwhKPez7gu"
   },
   "outputs": [],
   "source": [
    "from langchain_google_genai import ChatGoogleGenerativeAI\n",
    "from google.colab import userdata\n",
    "\n",
    "llm = ChatGoogleGenerativeAI(\n",
    "    model=\"gemini-2.5-flash\", api_key=userdata.get(\"GOOGLE_API_KEY\")\n",
    ")"
   ]
  },
  {
   "cell_type": "code",
   "execution_count": null,
   "metadata": {
    "id": "pLZ2Pni75Jo7"
   },
   "outputs": [],
   "source": [
    "from langchain.prompts import PromptTemplate\n",
    "\n",
    "# 1. react prompt\n",
    "react_template = \"\"\"You are a helpful agent. You can use tools to solve the task.\n",
    "\n",
    "Available tools:\n",
    "{tools}\n",
    "\n",
    "Protocol (case-sensitive):\n",
    "- After every \"Thought:\" you must EITHER:\n",
    "  a) output an \"Action:\" (one of [{tool_names}]) followed by \"Action Input:\", then wait for an \"Observation:\", OR\n",
    "  b) output \"Final Answer:\" to finish.\n",
    "- Never write another \"Thought:\" after \"Final Answer:\".\n",
    "- If no tool is needed, skip directly to \"Final Answer:\".\n",
    "\n",
    "Use this exact format:\n",
    "\n",
    "Question: {input}\n",
    "\n",
    "{agent_scratchpad}\n",
    "# The scratchpad above may contain prior Thought/Action/Action Input/Observation steps.\n",
    "# Continue from there.\n",
    "\n",
    "Thought: <what to do next>\n",
    "Action: <one of [{tool_names}]>\n",
    "Action Input: <input to the action>\n",
    "Observation: <result of the action>\n",
    "... (repeat Thought/Action/Action Input/Observation as needed)\n",
    "Thought: I now know the final answer\n",
    "Final Answer: <the final answer to the original question>\n",
    "\"\"\"\n",
    "\n",
    "\n",
    "prompt = PromptTemplate(\n",
    "    template=react_template,\n",
    "    input_variables=[\"tools\", \"tool_names\", \"input\", \"agent_scratchpad\"],\n",
    ")"
   ]
  },
  {
   "cell_type": "code",
   "execution_count": null,
   "metadata": {
    "id": "RT7v32y95OLZ"
   },
   "outputs": [],
   "source": [
    "from langchain.agents import load_tools, Tool\n",
    "from langchain.tools import DuckDuckGoSearchResults\n",
    "\n",
    "search = DuckDuckGoSearchResults()\n",
    "search_tool = Tool(\n",
    "    name=\"duckduck\",\n",
    "    description=\"a web search engine. use this to as a search engine for general queries.\",\n",
    "    func=search.run,\n",
    ")\n",
    "\n",
    "tools = load_tools([\"llm-math\"], llm=llm)\n",
    "tools.append(search_tool)"
   ]
  },
  {
   "cell_type": "code",
   "execution_count": null,
   "metadata": {
    "id": "CBJzqL2YyvAj"
   },
   "outputs": [],
   "source": [
    "from langchain.agents import AgentExecutor, create_react_agent\n",
    "\n",
    "# ReAct agent\n",
    "agent = create_react_agent(llm=llm, tools=tools, prompt=prompt)\n",
    "agent_executor = AgentExecutor(\n",
    "    agent=agent, tools=tools, verbose=True, handle_parsing_errors=True\n",
    ")"
   ]
  },
  {
   "cell_type": "code",
   "execution_count": null,
   "metadata": {
    "id": "qLA3B27pk-DP"
   },
   "outputs": [],
   "source": [
    "agent_executor.invoke(\n",
    "    {\n",
    "        \"input\": \"what is the current price of a MacBook Pro in usd? how much would it cost in eur if the exchange rate is 0.85 eur for 1 usd.\"\n",
    "    }\n",
    ")"
   ]
  }
 ],
 "metadata": {
  "accelerator": "GPU",
  "colab": {
   "gpuType": "T4",
   "include_colab_link": true,
   "provenance": [],
   "toc_visible": true
  },
  "kernelspec": {
   "display_name": "Python 3",
   "name": "python3"
  },
  "language_info": {
   "name": "python"
  }
 },
 "nbformat": 4,
 "nbformat_minor": 0
}
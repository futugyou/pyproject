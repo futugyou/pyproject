{
 "cells": [
  {
   "cell_type": "markdown",
   "metadata": {
    "colab_type": "text",
    "id": "view-in-github"
   },
   "source": [
    "<a href=\"https://colab.research.google.com/github/futugyou/pyproject/blob/master/transformers_demo/text_generation_03.ipynb\" target=\"_parent\"><img src=\"https://colab.research.google.com/assets/colab-badge.svg\" alt=\"Open In Colab\"/></a>"
   ]
  },
  {
   "cell_type": "code",
   "execution_count": null,
   "metadata": {
    "collapsed": true,
    "id": "1piQHEu3zW6s"
   },
   "outputs": [],
   "source": [
    "# Install required dependencies\n",
    "%pip install langchain-community langchain-google-genai langchain google-generativeai\n",
    "# Goal: Generate title, characters, story outline"
   ]
  },
  {
   "cell_type": "code",
   "execution_count": null,
   "metadata": {
    "collapsed": true,
    "id": "Y0XwhKPez7gu"
   },
   "outputs": [],
   "source": [
    "from langchain_google_genai import ChatGoogleGenerativeAI\n",
    "from google.colab import userdata\n",
    "\n",
    "llm = ChatGoogleGenerativeAI(\n",
    "    model=\"gemini-2.5-flash\", api_key=userdata.get(\"GOOGLE_API_KEY\")\n",
    ")"
   ]
  },
  {
   "cell_type": "code",
   "execution_count": null,
   "metadata": {
    "id": "wnevv3dDoVPu"
   },
   "outputs": [],
   "source": [
    "from langchain.schema.runnable import RunnableLambda, RunnableMap, RunnablePassthrough\n",
    "\n",
    "\n",
    "def make_sequential_chain(steps, input_key=\"summary\"):\n",
    "    \"\"\"\n",
    "    steps: [(\"title\", title_prompt), (\"character\", character_prompt), ...]\n",
    "    \"\"\"\n",
    "    chain = {\"__input__\": RunnablePassthrough()}\n",
    "    for key, prompt in steps:\n",
    "        chain[key] = (\n",
    "            {**chain, input_key: chain[\"__input__\"]}\n",
    "            | prompt\n",
    "            | llm\n",
    "            | RunnableLambda(lambda x, k=key: {k: x.content})\n",
    "        )\n",
    "    return RunnableMap(\n",
    "        {input_key: chain[\"__input__\"], **{k: chain[k] for k, _ in steps}}\n",
    "    )"
   ]
  },
  {
   "cell_type": "code",
   "execution_count": null,
   "metadata": {
    "id": "CBJzqL2YyvAj"
   },
   "outputs": [],
   "source": [
    "# 1. generate title\n",
    "from langchain import PromptTemplate, LLMChain\n",
    "\n",
    "template = \"\"\"<s><|user|>\n",
    "create a title for a story about {summary}. only return the title.<|end|>\n",
    "<|assistant|>\n",
    "\"\"\"\n",
    "\n",
    "title_prompt = PromptTemplate(template=template, input_variables=[\"summary\"])"
   ]
  },
  {
   "cell_type": "code",
   "execution_count": null,
   "metadata": {
    "id": "qLA3B27pk-DP"
   },
   "outputs": [],
   "source": [
    "# 2. generate characters\n",
    "template = \"\"\"<s><|user|>\n",
    "deacribe the main character of a story about {summary} with the title {title}.\n",
    "use olny two sentences.<|end|>\n",
    "<|assistant|>\n",
    "\"\"\"\n",
    "\n",
    "character_prompt = PromptTemplate(\n",
    "    template=template, input_variables=[\"summary\", \"title\"]\n",
    ")"
   ]
  },
  {
   "cell_type": "code",
   "execution_count": null,
   "metadata": {
    "id": "tmbJdqTZl-uu"
   },
   "outputs": [],
   "source": [
    "# 3. generate story\n",
    "template = \"\"\"<s><|user|>\n",
    "create a story about {summary} with the title {title}. the main character is:\n",
    "{character}. only return the story and it cannot be longer than one paragraph.\n",
    "<|end|>\n",
    "<|assistant|>\n",
    "\"\"\"\n",
    "\n",
    "story_prompt = PromptTemplate(\n",
    "    template=template, input_variables=[\"summary\", \"title\", \"character\"]\n",
    ")"
   ]
  },
  {
   "cell_type": "code",
   "execution_count": null,
   "metadata": {
    "id": "cUm9Zr0Smfcm"
   },
   "outputs": [],
   "source": [
    "steps = [\n",
    "    (\"title\", title_prompt),\n",
    "    (\"character\", character_prompt),\n",
    "    (\"story\", story_prompt),\n",
    "]\n",
    "chain = make_sequential_chain(steps)\n",
    "response = chain.invoke({\"summary\": \"a girl that lost her mother\"})\n",
    "print(response)"
   ]
  }
 ],
 "metadata": {
  "accelerator": "GPU",
  "colab": {
   "gpuType": "T4",
   "include_colab_link": true,
   "provenance": [],
   "toc_visible": true
  },
  "kernelspec": {
   "display_name": "Python 3",
   "name": "python3"
  },
  "language_info": {
   "name": "python"
  }
 },
 "nbformat": 4,
 "nbformat_minor": 0
}
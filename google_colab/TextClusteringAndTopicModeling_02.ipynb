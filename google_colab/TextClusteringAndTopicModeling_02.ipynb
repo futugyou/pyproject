{
 "cells": [
  {
   "cell_type": "markdown",
   "metadata": {
    "colab_type": "text",
    "id": "view-in-github"
   },
   "source": [
    "<a href=\"https://colab.research.google.com/github/futugyou/pyproject/blob/master/google_colab/TextClusteringAndTopicModeling_02.ipynb\" target=\"_parent\"><img src=\"https://colab.research.google.com/assets/colab-badge.svg\" alt=\"Open In Colab\"/></a>"
   ]
  },
  {
   "cell_type": "code",
   "execution_count": null,
   "metadata": {
    "id": "B_BCbm4KCjL6"
   },
   "outputs": [],
   "source": [
    "# Install required dependencies\n",
    "%pip install --upgrade pip setuptools wheel\n",
    "%pip install datasets\n",
    "%pip install sentence_transformers\n",
    "%pip install umap-learn\n",
    "%pip install hdbscan\n",
    "%pip install numpy\n",
    "%pip install pandas\n",
    "%pip install matplotlib\n",
    "%pip install tqdm\n",
    "%pip install bertopic"
   ]
  },
  {
   "cell_type": "code",
   "execution_count": null,
   "metadata": {
    "id": "1zQ-uwrRkkBi"
   },
   "outputs": [],
   "source": [
    "from datasets import load_dataset\n",
    "from sentence_transformers import SentenceTransformer\n",
    "from hdbscan import HDBSCAN\n",
    "from tqdm.notebook import tqdm\n",
    "import umap\n",
    "import numpy as np\n",
    "import pandas as pd\n",
    "import matplotlib.pyplot as plt\n",
    "\n",
    "data = load_dataset(\"maartengr/arxiv_nlp\")\n",
    "dataset = data[\"train\"]\n",
    "abstracts = dataset[\"Abstracts\"]\n",
    "titles = dataset[\"Titles\"]\n",
    "print(abstracts)"
   ]
  },
  {
   "cell_type": "code",
   "execution_count": null,
   "metadata": {
    "id": "0y-DR6nKjQlQ"
   },
   "outputs": [],
   "source": [
    "# \"thenlper/gte-small\" \"sentence-transformers/all-MiniLM-L6-v2\"\n",
    "embedding_model = SentenceTransformer(\"thenlper/gte-small\")\n",
    "embeddings = embedding_model.encode(\n",
    "    abstracts, show_progress_bar=True, progress_bar=tqdm, batch_size=16\n",
    ")\n",
    "print(embeddings)"
   ]
  },
  {
   "cell_type": "code",
   "execution_count": null,
   "metadata": {
    "id": "wC-1yYJmAnvu"
   },
   "outputs": [],
   "source": [
    "umap_model = umap.UMAP(\n",
    "    n_components=5, min_dist=0.0, metric=\"cosine\", random_state=42, verbose=True\n",
    ")\n",
    "umap_embeddings = umap_model.fit_transform(embeddings)\n",
    "print(umap_embeddings)"
   ]
  },
  {
   "cell_type": "code",
   "execution_count": null,
   "metadata": {
    "id": "UhdFBvBon_rN"
   },
   "outputs": [],
   "source": [
    "hdbsacn_model = HDBSCAN(\n",
    "    min_cluster_size=50, metric=\"euclidean\", cluster_selection_method=\"eom\"\n",
    ").fit(umap_embeddings)\n",
    "clusters = hdbsacn_model.labels_\n",
    "print(clusters)"
   ]
  },
  {
   "cell_type": "code",
   "execution_count": null,
   "metadata": {
    "id": "bf3b1qnXTVYG"
   },
   "outputs": [],
   "source": [
    "reduced_embeddings = umap.UMAP(\n",
    "    n_components=2, min_dist=0.0, metric=\"cosine\", random_state=42, verbose=True\n",
    ").fit_transform(embeddings)"
   ]
  },
  {
   "cell_type": "code",
   "execution_count": null,
   "metadata": {
    "id": "YeLlj-uFsMYJ"
   },
   "outputs": [],
   "source": [
    "from bertopic import BERTopic\n",
    "\n",
    "topic_model = BERTopic(\n",
    "    embedding_model=embedding_model,\n",
    "    umap_model=umap_model,  # option\n",
    "    hdbscan_model=hdbsacn_model,  # option\n",
    "    verbose=True,\n",
    ").fit(abstracts, embeddings)"
   ]
  },
  {
   "cell_type": "code",
   "execution_count": null,
   "metadata": {
    "id": "oPNUV7rStOi_"
   },
   "outputs": [],
   "source": [
    "topic_model.get_topic_info()"
   ]
  },
  {
   "cell_type": "code",
   "execution_count": null,
   "metadata": {
    "id": "IWSlDWJbwN-m"
   },
   "outputs": [],
   "source": [
    "topic_model.find_topics(\"topic modeling\")"
   ]
  },
  {
   "cell_type": "code",
   "execution_count": null,
   "metadata": {
    "id": "hQ6h5c_0v1vo"
   },
   "outputs": [],
   "source": [
    "topic_model.get_topic(23)"
   ]
  },
  {
   "cell_type": "code",
   "execution_count": null,
   "metadata": {
    "id": "efDEkvw8wX42"
   },
   "outputs": [],
   "source": [
    "titles = list(titles)\n",
    "\n",
    "fig = topic_model.visualize_documents(\n",
    "    titles, reduced_embeddings=reduced_embeddings, width=1200, hide_annotations=True\n",
    ")\n",
    "fig.update_layout(font=dict(size=16))"
   ]
  },
  {
   "cell_type": "code",
   "execution_count": null,
   "metadata": {
    "id": "Pm1di6Swyk_q"
   },
   "outputs": [],
   "source": [
    "topic_model.visualize_barchart()"
   ]
  },
  {
   "cell_type": "code",
   "execution_count": null,
   "metadata": {
    "id": "FoTmxgRyysyx"
   },
   "outputs": [],
   "source": [
    "topic_model.visualize_heatmap(n_clusters=30)"
   ]
  },
  {
   "cell_type": "code",
   "execution_count": null,
   "metadata": {
    "id": "zfZiz23py12g"
   },
   "outputs": [],
   "source": [
    "topic_model.visualize_hierarchy()"
   ]
  }
 ],
 "metadata": {
  "accelerator": "GPU",
  "colab": {
   "gpuType": "T4",
   "include_colab_link": true,
   "provenance": [],
   "toc_visible": true
  },
  "kernelspec": {
   "display_name": "Python 3",
   "name": "python3"
  },
  "language_info": {
   "name": "python"
  }
 },
 "nbformat": 4,
 "nbformat_minor": 0
}
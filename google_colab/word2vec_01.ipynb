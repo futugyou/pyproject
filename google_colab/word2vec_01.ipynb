{
 "cells": [
  {
   "cell_type": "markdown",
   "metadata": {
    "colab_type": "text",
    "id": "view-in-github"
   },
   "source": [
    "<a href=\"https://colab.research.google.com/github/futugyou/pyproject/blob/master/google_colab/word2vec_01.ipynb\" target=\"_parent\"><img src=\"https://colab.research.google.com/assets/colab-badge.svg\" alt=\"Open In Colab\"/></a>"
   ]
  },
  {
   "cell_type": "code",
   "execution_count": null,
   "metadata": {
    "id": "B_BCbm4KCjL6"
   },
   "outputs": [],
   "source": [
    "# Install required dependencies\n",
    "%pip install pandas\n",
    "%pip install gensim\n",
    "%pip install numpy"
   ]
  },
  {
   "cell_type": "code",
   "execution_count": null,
   "metadata": {
    "id": "p83IMJKpHtfR"
   },
   "outputs": [],
   "source": [
    "import pandas as pd\n",
    "from urllib import request\n",
    "from gensim.models import Word2Vec\n",
    "import numpy as np\n",
    "\n",
    "data = request.urlopen(\n",
    "    \"https://storage.googleapis.com/maps-premium/dataset/yes_complete/train.txt\"\n",
    ")\n",
    "\n",
    "lines = data.read().decode(\"utf-8\").split(\"\\n\")[2:]\n",
    "\n",
    "playlists = [s.split() for s in lines if len(s.split()) > 1]\n",
    "\n",
    "songs_file = request.urlopen(\n",
    "    \"https://storage.googleapis.com/maps-premium/dataset/yes_complete/song_hash.txt\"\n",
    ")\n",
    "songs_file = songs_file.read().decode(\"utf-8\").split(\"\\n\")\n",
    "\n",
    "songs = [s.split(\"\\t\") for s in songs_file]\n",
    "songs_df = pd.DataFrame(songs, columns=[\"id\", \"title\", \"artist\"]).set_index(\"id\")\n",
    "\n",
    "model = Word2Vec(\n",
    "    playlists, vector_size=32, window=20, negative=50, min_count=1, workers=4\n",
    ")"
   ]
  },
  {
   "cell_type": "code",
   "execution_count": null,
   "metadata": {
    "id": "UbbKCyxtHK_a"
   },
   "outputs": [],
   "source": [
    "print(\"platlist #1:\\n\", playlists[0], \"\\n\")\n",
    "print(\"platlist #2:\\n\", playlists[1], \"\\n\")"
   ]
  },
  {
   "cell_type": "code",
   "execution_count": null,
   "metadata": {
    "id": "aet7URuathdq"
   },
   "outputs": [],
   "source": [
    "song_id = 2172\n",
    "result = model.wv.most_similar(positive=str(song_id))\n",
    "print(result)\n",
    "\n",
    "\n",
    "def print_recommendations(song_id):\n",
    "    similar_songs = np.array(model.wv.most_similar(positive=str(song_id), topn=5))[:, 0]\n",
    "    return songs_df.iloc[similar_songs]\n",
    "\n",
    "\n",
    "result = print_recommendations(song_id)\n",
    "print(result)"
   ]
  }
 ],
 "metadata": {
  "colab": {
   "include_colab_link": true,
   "provenance": [],
   "toc_visible": true
  },
  "kernelspec": {
   "display_name": "Python 3",
   "name": "python3"
  },
  "language_info": {
   "name": "python"
  }
 },
 "nbformat": 4,
 "nbformat_minor": 0
}